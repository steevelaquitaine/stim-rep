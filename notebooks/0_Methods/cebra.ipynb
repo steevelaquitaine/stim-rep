{
 "cells": [
  {
   "cell_type": "code",
   "execution_count": 29,
   "metadata": {},
   "outputs": [
    {
     "data": {
      "image/png": "[encoded data removed]",
      "text/plain": [
       "<Figure size 200x100 with 1 Axes>"
      ]
     },
     "metadata": {},
     "output_type": "display_data"
    }
   ],
   "source": [
    "import numpy as np\n",
    "from matplotlib import pyplot as plt\n",
    "import os\n",
    "\n",
    "\n",
    "# GET STIMULUS CONF\n",
    "PROJ_PATH = \"/gpfs/bbp.cscs.ch/project/proj85/home/laquitai/stim-rep\"\n",
    "os.chdir(PROJ_PATH)\n",
    "\n",
    "\n",
    "# FIGURE SETTINGS\n",
    "plt.rcParams[\"figure.figsize\"] = (2, 1)\n",
    "plt.rcParams[\"font.family\"] = \"Arial\"\n",
    "plt.rcParams[\"font.size\"] = 6\n",
    "plt.rcParams[\"lines.linewidth\"] = 0.5\n",
    "plt.rcParams[\"axes.linewidth\"] = 0.5\n",
    "plt.rcParams[\"axes.spines.top\"] = False\n",
    "plt.rcParams[\"axes.spines.right\"] = False\n",
    "plt.rcParams[\"xtick.major.width\"] = 0.3\n",
    "plt.rcParams[\"xtick.minor.size\"] = 0.1\n",
    "plt.rcParams[\"xtick.major.size\"] = 1.5\n",
    "plt.rcParams[\"ytick.major.size\"] = 1.5\n",
    "plt.rcParams[\"ytick.major.width\"] = 0.3\n",
    "legend_cfg = {\"frameon\": False, \"handletextpad\": 0.1}\n",
    "savefig_cfg = {\"transparent\": True, \"dpi\": 300}\n",
    "\n",
    "SIZE = 20\n",
    "\n",
    "# plot response scheme\n",
    "response = np.random.randint(10, size=(5, 10))\n",
    "plt.imshow(response)\n",
    "plt.xticks([])\n",
    "plt.yticks([])\n",
    "\n",
    "# save\n",
    "plt.savefig(PROJ_PATH + \"/figures/method/cebra.svg\", **savefig_cfg)"
   ]
  },
  {
   "cell_type": "code",
   "execution_count": 72,
   "metadata": {},
   "outputs": [
    {
     "data": {
      "image/png": "[encoded data removed]",
      "text/plain": [
       "<Figure size 200x100 with 1 Axes>"
      ]
     },
     "metadata": {},
     "output_type": "display_data"
    }
   ],
   "source": [
    "# plot auxiliary adirection scheme\n",
    "dir_tmp = np.array([np.repeat(np.arange(0, 359, 1), 4)])\n",
    "direction = np.repeat(dir_tmp, axis=0, repeats=10)\n",
    "\n",
    "plt.imshow(direction)\n",
    "plt.xticks([])\n",
    "plt.yticks([])\n",
    "\n",
    "# save\n",
    "plt.savefig(PROJ_PATH + \"/figures/method/cebra_auxiliary_dir.svg\", **savefig_cfg)"
   ]
  }
 ],
 "metadata": {
  "kernelspec": {
   "display_name": "stimrep",
   "language": "python",
   "name": "python3"
  },
  "language_info": {
   "codemirror_mode": {
    "name": "ipython",
    "version": 3
   },
   "file_extension": ".py",
   "mimetype": "text/x-python",
   "name": "python",
   "nbconvert_exporter": "python",
   "pygments_lexer": "ipython3",
   "version": "3.9.7"
  }
 },
 "nbformat": 4,
 "nbformat_minor": 2
}
